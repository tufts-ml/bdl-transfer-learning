{
 "cells": [
  {
   "cell_type": "code",
   "execution_count": 1,
   "metadata": {},
   "outputs": [],
   "source": [
    "import os\n",
    "import itertools\n",
    "import numpy as np\n",
    "import pandas as pd\n",
    "import matplotlib.pyplot as plt"
   ]
  },
  {
   "cell_type": "code",
   "execution_count": 2,
   "metadata": {},
   "outputs": [],
   "source": [
    "repo_path = '/cluster/tufts/hugheslab/eharve06/bdl-transfer-learning'\n",
    "experiments_path = os.path.join(repo_path, 'experiments/HAM10000')"
   ]
  },
  {
   "cell_type": "code",
   "execution_count": 3,
   "metadata": {},
   "outputs": [],
   "source": [
    "def get_df(path):\n",
    "    df = pd.read_csv(path, index_col='Unnamed: 0')\n",
    "    return df\n",
    "\n",
    "def get_best_epoch(df, window_size):\n",
    "    val_auroc = df.val_auroc.values\n",
    "    windowed_auroc = [sum(val_auroc[index-window_size:index])/window_size \\\n",
    "                      for index in range(window_size, len(val_auroc))]\n",
    "    return df.iloc[window_size+np.argmax(windowed_auroc)]"
   ]
  },
  {
   "cell_type": "code",
   "execution_count": 4,
   "metadata": {},
   "outputs": [],
   "source": [
    "random_states = [1001, 2001, 3001]\n",
    "random_states = [4001, 5001, 6001]\n",
    "prior_scales = np.logspace(0, 9, num=10)\n",
    "lr_0s = np.logspace(-1, -4, num=4)\n",
    "weight_decays = np.append(np.logspace(-2, -6, num=5), 0)\n",
    "window_size = 5"
   ]
  },
  {
   "cell_type": "code",
   "execution_count": 5,
   "metadata": {},
   "outputs": [],
   "source": [
    "columns = ['random_state', 'method', 'test_auroc', 'test_loss', 'test_nll', \n",
    "           'test_prior', 'train_auroc', 'train_loss', 'train_nll', 'train_prior', \n",
    "           'val_auroc', 'val_loss', 'val_nll', 'val_prior']\n",
    "df = pd.DataFrame(columns=columns)\n",
    "\n",
    "for (random_state,) in itertools.product(random_states):\n",
    "    # Get best model\n",
    "    best_row = None\n",
    "    for lr_0, weight_decay in itertools.product(lr_0s, weight_decays):\n",
    "        df_path =  '{}/random_state={}/nonlearned_lr_0={}_weight_decay={}.csv'\\\n",
    "        .format(experiments_path, random_state, lr_0, weight_decay)\n",
    "        row = get_best_epoch(get_df(df_path), window_size=window_size)\n",
    "        if best_row is None: best_row = row\n",
    "        if row['val_auroc'] > best_row['val_auroc']: best_row = row\n",
    "    # Append best_model to df\n",
    "    row = [random_state, 'nonlearned', best_row.test_auroc, best_row.test_loss, \n",
    "           best_row.test_nll, best_row.test_prior, best_row.train_auroc, \n",
    "           best_row.train_loss, best_row.train_nll, best_row.train_prior, \n",
    "           best_row.val_auroc, best_row.val_loss, best_row.val_nll, \n",
    "           best_row.val_prior]\n",
    "    df.loc[df.shape[0]] = row\n",
    "    # Get best model\n",
    "    best_row = None\n",
    "    for lr_0, prior_scale, weight_decay in itertools.product(lr_0s, prior_scales, weight_decays):\n",
    "        df_path =  '{}/random_state={}/learned_prior_scale={}_lr_0={}_weight_decay={}.csv'\\\n",
    "        .format(experiments_path, random_state, prior_scale, lr_0, weight_decay)\n",
    "        row = get_best_epoch(get_df(df_path), window_size=window_size)\n",
    "        if best_row is None: best_row = row\n",
    "        if row['val_auroc'] > best_row['val_auroc']: best_row = row\n",
    "    # Append best_model to df\n",
    "    row = [random_state, 'learned', best_row.test_auroc, best_row.test_loss, \n",
    "           best_row.test_nll, best_row.test_prior, best_row.train_auroc, \n",
    "           best_row.train_loss, best_row.train_nll, best_row.train_prior, \n",
    "           best_row.val_auroc, best_row.val_loss, best_row.val_nll, \n",
    "           best_row.val_prior]\n",
    "    df.loc[df.shape[0]] = row\n",
    "# TODO: If more seeds are added average over seeds\n",
    "df = df.groupby('method').agg(lambda x: list(x))\n",
    "columns = ['test_auroc', 'train_auroc', 'val_auroc']\n",
    "for column in columns:\n",
    "    df['{}_std'.format(column)] = df[column].apply(lambda item: np.std(item))\n",
    "    df[column] = df[column].apply(lambda item: np.mean(item))\n",
    "df = df.reset_index()"
   ]
  },
  {
   "cell_type": "code",
   "execution_count": 6,
   "metadata": {
    "scrolled": true
   },
   "outputs": [
    {
     "data": {
      "text/html": [
       "<div>\n",
       "<style scoped>\n",
       "    .dataframe tbody tr th:only-of-type {\n",
       "        vertical-align: middle;\n",
       "    }\n",
       "\n",
       "    .dataframe tbody tr th {\n",
       "        vertical-align: top;\n",
       "    }\n",
       "\n",
       "    .dataframe thead th {\n",
       "        text-align: right;\n",
       "    }\n",
       "</style>\n",
       "<table border=\"1\" class=\"dataframe\">\n",
       "  <thead>\n",
       "    <tr style=\"text-align: right;\">\n",
       "      <th></th>\n",
       "      <th>random_state</th>\n",
       "      <th>method</th>\n",
       "      <th>train_auroc</th>\n",
       "      <th>train_auroc_std</th>\n",
       "      <th>val_auroc</th>\n",
       "      <th>val_auroc_std</th>\n",
       "      <th>test_auroc</th>\n",
       "      <th>test_auroc_std</th>\n",
       "    </tr>\n",
       "  </thead>\n",
       "  <tbody>\n",
       "    <tr>\n",
       "      <th>0</th>\n",
       "      <td>[4001, 5001, 6001]</td>\n",
       "      <td>learned</td>\n",
       "      <td>1.0</td>\n",
       "      <td>0.0</td>\n",
       "      <td>0.893619</td>\n",
       "      <td>0.009632</td>\n",
       "      <td>0.854138</td>\n",
       "      <td>0.018519</td>\n",
       "    </tr>\n",
       "    <tr>\n",
       "      <th>1</th>\n",
       "      <td>[4001, 5001, 6001]</td>\n",
       "      <td>nonlearned</td>\n",
       "      <td>1.0</td>\n",
       "      <td>0.0</td>\n",
       "      <td>0.888716</td>\n",
       "      <td>0.010356</td>\n",
       "      <td>0.851848</td>\n",
       "      <td>0.025303</td>\n",
       "    </tr>\n",
       "  </tbody>\n",
       "</table>\n",
       "</div>"
      ],
      "text/plain": [
       "         random_state      method  train_auroc  train_auroc_std  val_auroc  \\\n",
       "0  [4001, 5001, 6001]     learned          1.0              0.0   0.893619   \n",
       "1  [4001, 5001, 6001]  nonlearned          1.0              0.0   0.888716   \n",
       "\n",
       "   val_auroc_std  test_auroc  test_auroc_std  \n",
       "0       0.009632    0.854138        0.018519  \n",
       "1       0.010356    0.851848        0.025303  "
      ]
     },
     "execution_count": 6,
     "metadata": {},
     "output_type": "execute_result"
    }
   ],
   "source": [
    "df[['random_state', 'method', 'train_auroc', 'train_auroc_std', 'val_auroc', \n",
    "    'val_auroc_std', 'test_auroc', 'test_auroc_std']]"
   ]
  },
  {
   "cell_type": "code",
   "execution_count": null,
   "metadata": {},
   "outputs": [],
   "source": []
  }
 ],
 "metadata": {
  "kernelspec": {
   "display_name": "bdl_2022f_env",
   "language": "python",
   "name": "bdl_2022f_env"
  },
  "language_info": {
   "codemirror_mode": {
    "name": "ipython",
    "version": 3
   },
   "file_extension": ".py",
   "mimetype": "text/x-python",
   "name": "python",
   "nbconvert_exporter": "python",
   "pygments_lexer": "ipython3",
   "version": "3.8.0"
  }
 },
 "nbformat": 4,
 "nbformat_minor": 2
}
