{
 "cells": [
  {
   "cell_type": "code",
   "execution_count": 1,
   "metadata": {},
   "outputs": [],
   "source": [
    "import os\n",
    "import itertools\n",
    "import numpy as np\n",
    "import pandas as pd\n",
    "import matplotlib.pyplot as plt\n",
    "from mpl_toolkits.axes_grid1.inset_locator import zoomed_inset_axes\n",
    "from mpl_toolkits.axes_grid1.inset_locator import mark_inset"
   ]
  },
  {
   "cell_type": "code",
   "execution_count": 2,
   "metadata": {},
   "outputs": [],
   "source": [
    "def get_df(path):\n",
    "    df = pd.read_csv(path, index_col='Unnamed: 0')\n",
    "    return df\n",
    "\n",
    "def get_best_epoch(df, window_size):\n",
    "    val_nll = df.val_nll.values\n",
    "    windowed_nll = [sum(val_nll[index-window_size:index])/window_size \\\n",
    "                      for index in range(window_size, len(val_nll))]\n",
    "    return df.iloc[window_size+np.argmin(windowed_nll)]"
   ]
  },
  {
   "cell_type": "code",
   "execution_count": 3,
   "metadata": {},
   "outputs": [],
   "source": [
    "repo_path = '/cluster/tufts/hugheslab/eharve06/bdl-transfer-learning'\n",
    "experiments_path = os.path.join(repo_path, 'experiments/CIFAR-10')\n",
    "lr_0s = np.logspace(-1, -4, num=4)\n",
    "ns = [10, 100, 1000, 10000, 50000]\n",
    "random_states = [1001]\n",
    "weight_decays = np.append(np.logspace(-2, -6, num=5), 0)\n",
    "window_size = 3"
   ]
  },
  {
   "cell_type": "code",
   "execution_count": 4,
   "metadata": {},
   "outputs": [],
   "source": [
    "columns = ['n', 'random_state', 'method', 'test_acc', 'test_loss', 'test_nll', \n",
    "           'test_prior', 'train_acc', 'train_loss', 'train_nll', 'train_prior', \n",
    "           'val_acc', 'val_loss', 'val_nll', 'val_prior']\n",
    "df = pd.DataFrame(columns=columns)\n",
    "\n",
    "for n, random_state in itertools.product(ns, random_states):\n",
    "    # Get best model\n",
    "    best_row = None\n",
    "    for lr_0, weight_decay in itertools.product(lr_0s, weight_decays):\n",
    "        df_path = '{}/nonlearned_lr_0={}_n={}_random_state={}_weight_decay={}.csv'\\\n",
    "        .format(experiments_path, lr_0, n, random_state, weight_decay)\n",
    "        row = get_best_epoch(get_df(df_path), window_size=window_size)\n",
    "        if best_row is None: best_row = row\n",
    "        if row['val_nll'] < best_row['val_nll']: best_row = row\n",
    "        # Append best_model to df\n",
    "    row = [n, random_state, 'nonlearned', best_row.test_acc, best_row.test_loss, \n",
    "           best_row.test_nll, best_row.test_prior, best_row.train_acc, \n",
    "           best_row.train_loss, best_row.train_nll, best_row.train_prior, \n",
    "           best_row.val_acc, best_row.val_loss, best_row.val_nll, \n",
    "           best_row.val_prior]\n",
    "    df.loc[df.shape[0]] = row"
   ]
  },
  {
   "cell_type": "code",
   "execution_count": 5,
   "metadata": {},
   "outputs": [
    {
     "data": {
      "text/html": [
       "<div>\n",
       "<style scoped>\n",
       "    .dataframe tbody tr th:only-of-type {\n",
       "        vertical-align: middle;\n",
       "    }\n",
       "\n",
       "    .dataframe tbody tr th {\n",
       "        vertical-align: top;\n",
       "    }\n",
       "\n",
       "    .dataframe thead th {\n",
       "        text-align: right;\n",
       "    }\n",
       "</style>\n",
       "<table border=\"1\" class=\"dataframe\">\n",
       "  <thead>\n",
       "    <tr style=\"text-align: right;\">\n",
       "      <th></th>\n",
       "      <th>n</th>\n",
       "      <th>random_state</th>\n",
       "      <th>method</th>\n",
       "      <th>train_acc</th>\n",
       "      <th>train_nll</th>\n",
       "      <th>val_acc</th>\n",
       "      <th>val_nll</th>\n",
       "      <th>test_acc</th>\n",
       "      <th>test_nll</th>\n",
       "    </tr>\n",
       "  </thead>\n",
       "  <tbody>\n",
       "    <tr>\n",
       "      <th>4</th>\n",
       "      <td>50000</td>\n",
       "      <td>1001</td>\n",
       "      <td>nonlearned</td>\n",
       "      <td>0.999977</td>\n",
       "      <td>0.000775</td>\n",
       "      <td>0.964764</td>\n",
       "      <td>0.112152</td>\n",
       "      <td>0.962354</td>\n",
       "      <td>0.124968</td>\n",
       "    </tr>\n",
       "    <tr>\n",
       "      <th>3</th>\n",
       "      <td>10000</td>\n",
       "      <td>1001</td>\n",
       "      <td>nonlearned</td>\n",
       "      <td>1.000000</td>\n",
       "      <td>0.000140</td>\n",
       "      <td>0.936178</td>\n",
       "      <td>0.259172</td>\n",
       "      <td>0.927395</td>\n",
       "      <td>0.257687</td>\n",
       "    </tr>\n",
       "    <tr>\n",
       "      <th>2</th>\n",
       "      <td>1000</td>\n",
       "      <td>1001</td>\n",
       "      <td>nonlearned</td>\n",
       "      <td>1.000000</td>\n",
       "      <td>0.005150</td>\n",
       "      <td>0.770456</td>\n",
       "      <td>0.755756</td>\n",
       "      <td>0.778439</td>\n",
       "      <td>0.704871</td>\n",
       "    </tr>\n",
       "    <tr>\n",
       "      <th>1</th>\n",
       "      <td>100</td>\n",
       "      <td>1001</td>\n",
       "      <td>nonlearned</td>\n",
       "      <td>1.000000</td>\n",
       "      <td>0.114294</td>\n",
       "      <td>0.366667</td>\n",
       "      <td>1.374605</td>\n",
       "      <td>0.547997</td>\n",
       "      <td>1.385758</td>\n",
       "    </tr>\n",
       "    <tr>\n",
       "      <th>0</th>\n",
       "      <td>10</td>\n",
       "      <td>1001</td>\n",
       "      <td>nonlearned</td>\n",
       "      <td>1.000000</td>\n",
       "      <td>0.004875</td>\n",
       "      <td>0.333333</td>\n",
       "      <td>2.093944</td>\n",
       "      <td>0.256887</td>\n",
       "      <td>2.263753</td>\n",
       "    </tr>\n",
       "  </tbody>\n",
       "</table>\n",
       "</div>"
      ],
      "text/plain": [
       "       n random_state      method  train_acc  train_nll   val_acc   val_nll  \\\n",
       "4  50000         1001  nonlearned   0.999977   0.000775  0.964764  0.112152   \n",
       "3  10000         1001  nonlearned   1.000000   0.000140  0.936178  0.259172   \n",
       "2   1000         1001  nonlearned   1.000000   0.005150  0.770456  0.755756   \n",
       "1    100         1001  nonlearned   1.000000   0.114294  0.366667  1.374605   \n",
       "0     10         1001  nonlearned   1.000000   0.004875  0.333333  2.093944   \n",
       "\n",
       "   test_acc  test_nll  \n",
       "4  0.962354  0.124968  \n",
       "3  0.927395  0.257687  \n",
       "2  0.778439  0.704871  \n",
       "1  0.547997  1.385758  \n",
       "0  0.256887  2.263753  "
      ]
     },
     "execution_count": 5,
     "metadata": {},
     "output_type": "execute_result"
    }
   ],
   "source": [
    "df[['n', 'random_state', 'method', 'train_acc', 'train_nll', 'val_acc', 'val_nll', 'test_acc', 'test_nll']].sort_values('val_nll')"
   ]
  },
  {
   "cell_type": "code",
   "execution_count": 6,
   "metadata": {},
   "outputs": [
    {
     "data": {
      "image/png": "[encoded data removed]",
      "text/plain": [
       "<matplotlib.figure.Figure at 0x2b636399fd10>"
      ]
     },
     "metadata": {},
     "output_type": "display_data"
    }
   ],
   "source": [
    "def color_ax(ax, color='gray'):\n",
    "    ax.grid()\n",
    "    ax.spines['bottom'].set_color(color)\n",
    "    ax.spines['top'].set_color(color)\n",
    "    ax.spines['left'].set_color(color)\n",
    "    ax.spines['right'].set_color(color)\n",
    "    ax.tick_params(which='both', color=color)\n",
    "\n",
    "fig, ax = plt.subplots(ncols=1, nrows=1, figsize=(4, 3))\n",
    "# Reported values in Pre-Train Your Loss\n",
    "ax.plot([10, 100, 1000, 10000, 50000], [75.9, 49.3, 26.8, 8.9, 4.2], label='SGD Learned Prior', color='#1f77b4')\n",
    "ax.errorbar([10, 100, 1000, 10000, 50000], [75.9, 49.3, 26.8, 8.9, 4.2], yerr=[2.1, 1.9, 1.1, 0.3, 0.1], capsize=3, color='#1f77b4')\n",
    "ax.plot(df.n[df.method=='nonlearned'], 100*(1-df.test_acc[df.method=='nonlearned']), label='SGD Transfer Init', color='#9467bd')\n",
    "#ax.errorbar(df.prior_scale, df.test_acc, yerr=df.test_acc_std, fmt='o', capsize=3, color='#9467bd')\n",
    "\n",
    "axins = zoomed_inset_axes(ax, zoom=25, loc='upper right')\n",
    "axins.plot([10, 100, 1000, 10000, 50000], [75.9, 49.3, 26.8, 8.9, 4.2], label='SGD Learned Prior', color='#1f77b4')\n",
    "axins.errorbar([10, 100, 1000, 10000, 50000], [75.9, 49.3, 26.8, 8.9, 4.2], yerr=[2.1, 1.9, 1.1, 0.3, 0.1], capsize=3, color='#1f77b4')\n",
    "axins.plot(df.n[df.method=='nonlearned'], 100*(1-df.test_acc[df.method=='nonlearned']), label='SGD Transfer Init', color='#9467bd')\n",
    "axins.set_xlim(49000, 51000)\n",
    "axins.set_ylim(3, 5)\n",
    "axins.set_xscale('log')\n",
    "color_ax(axins)\n",
    "mark_inset(ax, axins, loc1=3, loc2=4, color='gray')\n",
    "\n",
    "ax.set_xscale('log')\n",
    "color_ax(ax)\n",
    "ax.set_xticks([1e1, 1e2, 1e3, 1e4, 1e5])\n",
    "ax.set_yticks([15, 40, 65, 90])\n",
    "ax.set_xlabel('Number of training samples (log-scale)')\n",
    "ax.set_ylabel('Test Error')\n",
    "ax.legend(loc='lower left')\n",
    "plt.show()"
   ]
  },
  {
   "cell_type": "code",
   "execution_count": null,
   "metadata": {},
   "outputs": [],
   "source": []
  }
 ],
 "metadata": {
  "kernelspec": {
   "display_name": "Python 2",
   "language": "python",
   "name": "python2"
  },
  "language_info": {
   "codemirror_mode": {
    "name": "ipython",
    "version": 2
   },
   "file_extension": ".py",
   "mimetype": "text/x-python",
   "name": "python",
   "nbconvert_exporter": "python",
   "pygments_lexer": "ipython2",
   "version": "2.7.14"
  }
 },
 "nbformat": 4,
 "nbformat_minor": 2
}
