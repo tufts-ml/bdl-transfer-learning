{
 "cells": [
  {
   "cell_type": "code",
   "execution_count": 1,
   "metadata": {},
   "outputs": [],
   "source": [
    "import os\n",
    "import pandas as pd"
   ]
  },
  {
   "cell_type": "code",
   "execution_count": 2,
   "metadata": {},
   "outputs": [],
   "source": [
    "import sys\n",
    "sys.path.append('../src/')\n",
    "\n",
    "%load_ext autoreload\n",
    "%autoreload 2\n",
    "# Importing our custom module(s)\n",
    "import folds\n",
    "import utils"
   ]
  },
  {
   "cell_type": "code",
   "execution_count": 3,
   "metadata": {},
   "outputs": [
    {
     "data": {
      "text/plain": [
       "nv       0.669496\n",
       "mel      0.111133\n",
       "bkl      0.109735\n",
       "bcc      0.051323\n",
       "akiec    0.032651\n",
       "vasc     0.014179\n",
       "df       0.011483\n",
       "Name: dx, dtype: float64"
      ]
     },
     "execution_count": 3,
     "metadata": {},
     "output_type": "execute_result"
    }
   ],
   "source": [
    "'''Code to view category prevalence'''\n",
    "dataset_path = '/cluster/tufts/hugheslab/eharve06/HAM10000'\n",
    "df = pd.read_csv(os.path.join(dataset_path, 'metadata'))\n",
    "df.dx.value_counts()/df.shape[0]"
   ]
  },
  {
   "cell_type": "code",
   "execution_count": 4,
   "metadata": {},
   "outputs": [
    {
     "data": {
      "text/html": [
       "<div>\n",
       "<style scoped>\n",
       "    .dataframe tbody tr th:only-of-type {\n",
       "        vertical-align: middle;\n",
       "    }\n",
       "\n",
       "    .dataframe tbody tr th {\n",
       "        vertical-align: top;\n",
       "    }\n",
       "\n",
       "    .dataframe thead th {\n",
       "        text-align: right;\n",
       "    }\n",
       "</style>\n",
       "<table border=\"1\" class=\"dataframe\">\n",
       "  <thead>\n",
       "    <tr style=\"text-align: right;\">\n",
       "      <th></th>\n",
       "      <th>label</th>\n",
       "      <th>path</th>\n",
       "    </tr>\n",
       "    <tr>\n",
       "      <th>lesion_id</th>\n",
       "      <th></th>\n",
       "      <th></th>\n",
       "    </tr>\n",
       "  </thead>\n",
       "  <tbody>\n",
       "    <tr>\n",
       "      <th>HAM_0000118</th>\n",
       "      <td>[1]</td>\n",
       "      <td>/cluster/tufts/hugheslab/eharve06/HAM10000/ima...</td>\n",
       "    </tr>\n",
       "    <tr>\n",
       "      <th>HAM_0000118</th>\n",
       "      <td>[1]</td>\n",
       "      <td>/cluster/tufts/hugheslab/eharve06/HAM10000/ima...</td>\n",
       "    </tr>\n",
       "    <tr>\n",
       "      <th>HAM_0002730</th>\n",
       "      <td>[1]</td>\n",
       "      <td>/cluster/tufts/hugheslab/eharve06/HAM10000/ima...</td>\n",
       "    </tr>\n",
       "    <tr>\n",
       "      <th>HAM_0002730</th>\n",
       "      <td>[1]</td>\n",
       "      <td>/cluster/tufts/hugheslab/eharve06/HAM10000/ima...</td>\n",
       "    </tr>\n",
       "    <tr>\n",
       "      <th>HAM_0001466</th>\n",
       "      <td>[1]</td>\n",
       "      <td>/cluster/tufts/hugheslab/eharve06/HAM10000/ima...</td>\n",
       "    </tr>\n",
       "  </tbody>\n",
       "</table>\n",
       "</div>"
      ],
      "text/plain": [
       "            label                                               path\n",
       "lesion_id                                                           \n",
       "HAM_0000118   [1]  /cluster/tufts/hugheslab/eharve06/HAM10000/ima...\n",
       "HAM_0000118   [1]  /cluster/tufts/hugheslab/eharve06/HAM10000/ima...\n",
       "HAM_0002730   [1]  /cluster/tufts/hugheslab/eharve06/HAM10000/ima...\n",
       "HAM_0002730   [1]  /cluster/tufts/hugheslab/eharve06/HAM10000/ima...\n",
       "HAM_0001466   [1]  /cluster/tufts/hugheslab/eharve06/HAM10000/ima..."
      ]
     },
     "execution_count": 4,
     "metadata": {},
     "output_type": "execute_result"
    }
   ],
   "source": [
    "'''Code to create labels.csv'''\n",
    "def label_to_category(label, categories):\n",
    "    if label not in categories: return [0]\n",
    "    else: return [categories.index(label)+1]\n",
    "\n",
    "dataset_path = '/cluster/tufts/hugheslab/eharve06/HAM10000'\n",
    "df = pd.read_csv(os.path.join(dataset_path, 'metadata'))\n",
    "categories = ['bkl', 'nv', 'df', 'mel', 'vasc', 'bcc', 'akiec']\n",
    "categories = ['bkl', 'nv', 'mel'] # categories based off prevalence\n",
    "df['label'] = df['dx'].apply(lambda label: label_to_category(label, categories))\n",
    "df['path'] = df['image_id'].apply(lambda image_id: os.path.join(dataset_path, 'images/{}.jpg'.format(image_id)))\n",
    "temp_df = df[['lesion_id', 'label', 'path']].set_index('lesion_id')\n",
    "temp_df.to_csv(os.path.join(dataset_path, 'labels.csv'))\n",
    "temp_df.head()"
   ]
  },
  {
   "cell_type": "code",
   "execution_count": null,
   "metadata": {},
   "outputs": [],
   "source": []
  }
 ],
 "metadata": {
  "kernelspec": {
   "display_name": "bdl_2022f_env",
   "language": "python",
   "name": "bdl_2022f_env"
  },
  "language_info": {
   "codemirror_mode": {
    "name": "ipython",
    "version": 3
   },
   "file_extension": ".py",
   "mimetype": "text/x-python",
   "name": "python",
   "nbconvert_exporter": "python",
   "pygments_lexer": "ipython3",
   "version": "3.8.0"
  }
 },
 "nbformat": 4,
 "nbformat_minor": 2
}
