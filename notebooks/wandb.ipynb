{
 "cells": [
  {
   "cell_type": "code",
   "execution_count": 20,
   "metadata": {},
   "outputs": [],
   "source": [
    "import os\n",
    "import numpy as np\n",
    "import pandas as pd\n",
    "import wandb"
   ]
  },
  {
   "cell_type": "code",
   "execution_count": 2,
   "metadata": {},
   "outputs": [],
   "source": [
    "import sys\n",
    "sys.path.append('../src/')\n",
    "\n",
    "%load_ext autoreload\n",
    "%autoreload 2\n",
    "# Importing our custom module(s)\n",
    "import folds\n",
    "import utils"
   ]
  },
  {
   "cell_type": "code",
   "execution_count": 8,
   "metadata": {},
   "outputs": [],
   "source": [
    "repo_path = '/cluster/tufts/hugheslab/eharve06/bdl-transfer-learning'\n",
    "experiments_path = os.path.join(repo_path, 'experiments')"
   ]
  },
  {
   "cell_type": "code",
   "execution_count": 14,
   "metadata": {},
   "outputs": [],
   "source": [
    "experiment_files = [os.path.join(subdir, file) \\\n",
    "                    for subdir, dirs, files in os.walk(experiments_path) \\\n",
    "                    for file in files]"
   ]
  },
  {
   "cell_type": "code",
   "execution_count": 23,
   "metadata": {},
   "outputs": [],
   "source": [
    "def load_experiment(path):\n",
    "    df = pd.read_csv(path, index_col='Unnamed: 0')\n",
    "    if 'lrs' in df.columns:\n",
    "        df.lrs = df.lrs.apply(lambda string: np.fromstring(string[1:-1], sep=', '))\n",
    "    return df"
   ]
  },
  {
   "cell_type": "code",
   "execution_count": 24,
   "metadata": {},
   "outputs": [
    {
     "data": {
      "text/html": [
       "<div>\n",
       "<style scoped>\n",
       "    .dataframe tbody tr th:only-of-type {\n",
       "        vertical-align: middle;\n",
       "    }\n",
       "\n",
       "    .dataframe tbody tr th {\n",
       "        vertical-align: top;\n",
       "    }\n",
       "\n",
       "    .dataframe thead th {\n",
       "        text-align: right;\n",
       "    }\n",
       "</style>\n",
       "<table border=\"1\" class=\"dataframe\">\n",
       "  <thead>\n",
       "    <tr style=\"text-align: right;\">\n",
       "      <th></th>\n",
       "      <th>epoch</th>\n",
       "      <th>train_loss</th>\n",
       "      <th>train_auroc</th>\n",
       "      <th>val_loss</th>\n",
       "      <th>val_auroc</th>\n",
       "      <th>test_loss</th>\n",
       "      <th>test_auroc</th>\n",
       "      <th>lrs</th>\n",
       "    </tr>\n",
       "  </thead>\n",
       "  <tbody>\n",
       "    <tr>\n",
       "      <th>0</th>\n",
       "      <td>1</td>\n",
       "      <td>42634.987546</td>\n",
       "      <td>0.675034</td>\n",
       "      <td>358831.197917</td>\n",
       "      <td>0.648496</td>\n",
       "      <td>358831.364583</td>\n",
       "      <td>0.558973</td>\n",
       "      <td>[0.03162277660168379, 0.03162277613999105, 0.0...</td>\n",
       "    </tr>\n",
       "    <tr>\n",
       "      <th>1</th>\n",
       "      <td>2</td>\n",
       "      <td>42634.151493</td>\n",
       "      <td>0.712143</td>\n",
       "      <td>358830.135417</td>\n",
       "      <td>0.641702</td>\n",
       "      <td>358830.135417</td>\n",
       "      <td>0.574124</td>\n",
       "      <td>[0.03162269857567421, 0.031622686109992255, 0....</td>\n",
       "    </tr>\n",
       "    <tr>\n",
       "      <th>2</th>\n",
       "      <td>3</td>\n",
       "      <td>42634.347424</td>\n",
       "      <td>0.843284</td>\n",
       "      <td>358830.656250</td>\n",
       "      <td>0.792827</td>\n",
       "      <td>358830.718750</td>\n",
       "      <td>0.714228</td>\n",
       "      <td>[0.03162246449841546, 0.03162244002886733, 0.0...</td>\n",
       "    </tr>\n",
       "    <tr>\n",
       "      <th>3</th>\n",
       "      <td>4</td>\n",
       "      <td>42633.799118</td>\n",
       "      <td>0.901479</td>\n",
       "      <td>358829.958333</td>\n",
       "      <td>0.812434</td>\n",
       "      <td>358830.250000</td>\n",
       "      <td>0.745539</td>\n",
       "      <td>[0.03162207437221785, 0.031622037899045045, 0....</td>\n",
       "    </tr>\n",
       "    <tr>\n",
       "      <th>4</th>\n",
       "      <td>5</td>\n",
       "      <td>42634.214302</td>\n",
       "      <td>0.819427</td>\n",
       "      <td>358830.541667</td>\n",
       "      <td>0.739541</td>\n",
       "      <td>358830.604167</td>\n",
       "      <td>0.643605</td>\n",
       "      <td>[0.03162152820093174, 0.031621479724494236, 0....</td>\n",
       "    </tr>\n",
       "  </tbody>\n",
       "</table>\n",
       "</div>"
      ],
      "text/plain": [
       "   epoch    train_loss  train_auroc       val_loss  val_auroc      test_loss  \\\n",
       "0      1  42634.987546     0.675034  358831.197917   0.648496  358831.364583   \n",
       "1      2  42634.151493     0.712143  358830.135417   0.641702  358830.135417   \n",
       "2      3  42634.347424     0.843284  358830.656250   0.792827  358830.718750   \n",
       "3      4  42633.799118     0.901479  358829.958333   0.812434  358830.250000   \n",
       "4      5  42634.214302     0.819427  358830.541667   0.739541  358830.604167   \n",
       "\n",
       "   test_auroc                                                lrs  \n",
       "0    0.558973  [0.03162277660168379, 0.03162277613999105, 0.0...  \n",
       "1    0.574124  [0.03162269857567421, 0.031622686109992255, 0....  \n",
       "2    0.714228  [0.03162246449841546, 0.03162244002886733, 0.0...  \n",
       "3    0.745539  [0.03162207437221785, 0.031622037899045045, 0....  \n",
       "4    0.643605  [0.03162152820093174, 0.031621479724494236, 0....  "
      ]
     },
     "execution_count": 24,
     "metadata": {},
     "output_type": "execute_result"
    }
   ],
   "source": [
    "df = load_experiment(experiment_files[0])\n",
    "df.head()"
   ]
  },
  {
   "cell_type": "code",
   "execution_count": 34,
   "metadata": {},
   "outputs": [
    {
     "data": {
      "text/html": [
       "Tracking run with wandb version 0.15.10"
      ],
      "text/plain": [
       "<IPython.core.display.HTML object>"
      ]
     },
     "metadata": {},
     "output_type": "display_data"
    },
    {
     "data": {
      "text/html": [
       "Run data is saved locally in <code>/cluster/tufts/hugheslab/eharve06/bdl-transfer-learning/notebooks/wandb/run-20230913_091700-tkwllzaq</code>"
      ],
      "text/plain": [
       "<IPython.core.display.HTML object>"
      ]
     },
     "metadata": {},
     "output_type": "display_data"
    },
    {
     "data": {
      "text/html": [
       "Syncing run <strong><a href='https://wandb.ai/ethanharvey98/bdl-transfer-learning/runs/tkwllzaq' target=\"_blank\">twilight-serenity-2</a></strong> to <a href='https://wandb.ai/ethanharvey98/bdl-transfer-learning' target=\"_blank\">Weights & Biases</a> (<a href='https://wandb.me/run' target=\"_blank\">docs</a>)<br/>"
      ],
      "text/plain": [
       "<IPython.core.display.HTML object>"
      ]
     },
     "metadata": {},
     "output_type": "display_data"
    },
    {
     "data": {
      "text/html": [
       " View project at <a href='https://wandb.ai/ethanharvey98/bdl-transfer-learning' target=\"_blank\">https://wandb.ai/ethanharvey98/bdl-transfer-learning</a>"
      ],
      "text/plain": [
       "<IPython.core.display.HTML object>"
      ]
     },
     "metadata": {},
     "output_type": "display_data"
    },
    {
     "data": {
      "text/html": [
       " View run at <a href='https://wandb.ai/ethanharvey98/bdl-transfer-learning/runs/tkwllzaq' target=\"_blank\">https://wandb.ai/ethanharvey98/bdl-transfer-learning/runs/tkwllzaq</a>"
      ],
      "text/plain": [
       "<IPython.core.display.HTML object>"
      ]
     },
     "metadata": {},
     "output_type": "display_data"
    },
    {
     "data": {
      "text/html": [
       "Waiting for W&B process to finish... <strong style=\"color:green\">(success).</strong>"
      ],
      "text/plain": [
       "<IPython.core.display.HTML object>"
      ]
     },
     "metadata": {},
     "output_type": "display_data"
    },
    {
     "name": "stderr",
     "output_type": "stream",
     "text": [
      "wandb: WARNING Source type is set to 'repo' but some required information is missing from the environment. A job will not be created from this run. See https://docs.wandb.ai/guides/launch/create-job\n"
     ]
    },
    {
     "data": {
      "text/html": [
       " View run <strong style=\"color:#cdcd00\">twilight-serenity-2</strong> at: <a href='https://wandb.ai/ethanharvey98/bdl-transfer-learning/runs/tkwllzaq' target=\"_blank\">https://wandb.ai/ethanharvey98/bdl-transfer-learning/runs/tkwllzaq</a><br/>Synced 4 W&B file(s), 1 media file(s), 3 artifact file(s) and 0 other file(s)"
      ],
      "text/plain": [
       "<IPython.core.display.HTML object>"
      ]
     },
     "metadata": {},
     "output_type": "display_data"
    },
    {
     "data": {
      "text/html": [
       "Find logs at: <code>./wandb/run-20230913_091700-tkwllzaq/logs</code>"
      ],
      "text/plain": [
       "<IPython.core.display.HTML object>"
      ]
     },
     "metadata": {},
     "output_type": "display_data"
    }
   ],
   "source": [
    "file = experiment_files[-1].split('/')[-1]\n",
    "#file = file.replace('=', '-')\n",
    "df_table = wandb.Table(dataframe=df)\n",
    "df_table_artifact = wandb.Artifact(file.replace('=', '-'), type='dataset')\n",
    "df_table_artifact.add(df_table, file)\n",
    "df_table_artifact.add_file(experiment_files[0])\n",
    "run = wandb.init(project='bdl-transfer-learning')\n",
    "run.log({file: df_table})\n",
    "run.log_artifact(df_table_artifact)\n",
    "run.finish()"
   ]
  },
  {
   "cell_type": "code",
   "execution_count": null,
   "metadata": {},
   "outputs": [],
   "source": []
  },
  {
   "cell_type": "code",
   "execution_count": null,
   "metadata": {},
   "outputs": [],
   "source": []
  },
  {
   "cell_type": "code",
   "execution_count": null,
   "metadata": {},
   "outputs": [],
   "source": [
    "# Read our CSV into a new DataFrame\n",
    "df = pd.read_csv(experiment_files[0])\n",
    "\n",
    "# Convert the DataFrame into a W&B Table\n",
    "iris_table = wandb.Table(dataframe=new_iris_dataframe)\n",
    "\n",
    "# Add the table to an Artifact to increase the row\n",
    "# limit to 200000 and make it easier to reuse\n",
    "iris_table_artifact = wandb.Artifact(\"iris_artifact\", type=\"dataset\")\n",
    "iris_table_artifact.add(iris_table, \"iris_table\")\n",
    "\n",
    "# log the raw csv file within an artifact to preserve our data\n",
    "iris_table_artifact.add_file(\"iris.csv\")\n",
    "\n",
    "# Start a W&B run to log data\n",
    "run = wandb.init(project=\"tables-walkthrough\")\n",
    "\n",
    "# Log the table to visualize with a run...\n",
    "run.log({\"iris\": iris_table})\n",
    "\n",
    "# and Log as an Artifact to increase the available row limit!\n",
    "run.log_artifact(iris_table_artifact)\n",
    "\n",
    "# Finish the run (useful in notebooks)\n",
    "run.finish()"
   ]
  }
 ],
 "metadata": {
  "kernelspec": {
   "display_name": "bdl_2022f_env",
   "language": "python",
   "name": "bdl_2022f_env"
  },
  "language_info": {
   "codemirror_mode": {
    "name": "ipython",
    "version": 3
   },
   "file_extension": ".py",
   "mimetype": "text/x-python",
   "name": "python",
   "nbconvert_exporter": "python",
   "pygments_lexer": "ipython3",
   "version": "3.8.0"
  }
 },
 "nbformat": 4,
 "nbformat_minor": 2
}
